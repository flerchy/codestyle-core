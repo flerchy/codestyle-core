{
 "cells": [
  {
   "cell_type": "code",
   "execution_count": 1,
   "metadata": {
    "collapsed": true
   },
   "outputs": [],
   "source": [
    "import numpy\n",
    "import sklearn\n",
    "import math"
   ]
  },
  {
   "cell_type": "code",
   "execution_count": 2,
   "metadata": {
    "collapsed": true
   },
   "outputs": [],
   "source": [
    "from sklearn import svm\n",
    "from sklearn.neighbors import KNeighborsClassifier as knn"
   ]
  },
  {
   "cell_type": "code",
   "execution_count": 3,
   "metadata": {
    "collapsed": false
   },
   "outputs": [
    {
     "name": "stdout",
     "output_type": "stream",
     "text": [
      "[[50.0, 1.0, 1.0, 1.0], [1.0, 0.0, 0.0, 0.0], [40.0, 1.0, 6.0, 1.0], [32.0, 1.0, 11.0, 1.0], [16.0, 1.0, 8.0, 0.0], [63.0, 0.0, 0.0, 0.0], [18.0, 0.0, 0.0, 0.0], [1.0, 0.0, 0.0, 0.0], [64.0, 2.0, 29.0, 0.0], [4.0, 0.0, 0.0, 0.0]]\n"
     ]
    }
   ],
   "source": [
    "X1 = []\n",
    "f = open(\"../scripts/pythonparse/bad.out\")\n",
    "i = 0\n",
    "j = 0\n",
    "X1.append([])\n",
    "for line in f:\n",
    "    #print line\n",
    "#    print line.strip().isdigit()\n",
    "    if line.strip().isdigit() and (j % 6) == 0:\n",
    "        num1 = int(line)\n",
    "        X1[i].append(float(line))\n",
    "    if line.strip().isdigit() and (j % 6) == 2:\n",
    "        X1[i].append(float(line))\n",
    "    if line.strip().isdigit() and (j % 6) == 3:\n",
    "        X1[i].append(float(line))\n",
    "    if line.strip().isdigit() and (j % 6) == 4:\n",
    "        X1[i].append(float(line))\n",
    "        i += 1\n",
    "        X1.append([])\n",
    "    j += 1\n",
    "X1.pop()\n",
    "f.close()\n",
    "print X1[:10]"
   ]
  },
  {
   "cell_type": "code",
   "execution_count": 4,
   "metadata": {
    "collapsed": false
   },
   "outputs": [
    {
     "name": "stdout",
     "output_type": "stream",
     "text": [
      "[[50.0, 1.0, 1.0, 1.0, 2], [1.0, 0.0, 0.0, 0.0, 2], [40.0, 1.0, 6.0, 1.0, 87], [32.0, 1.0, 11.0, 1.0, 2], [16.0, 1.0, 8.0, 0.0, 95], [63.0, 0.0, 0.0, 0.0, 92], [18.0, 0.0, 0.0, 0.0, 2], [1.0, 0.0, 0.0, 0.0, 93], [64.0, 2.0, 29.0, 0.0, 87], [4.0, 0.0, 0.0, 0.0, 119], [42.0, 2.0, 17.0, 0.0, 96], [83.0, 1.0, 1.0, 0.0, 2], [29.0, 3.0, 5.0, 0.0, 2], [17.0, 0.0, 0.0, 0.0, 101], [37.0, 1.0, 11.0, 1.0, 2], [329.0, 3.0, 170.0, 0.0, 95], [571.0, 9.0, 81.0, 1.0, 2], [98.0, 6.0, 9.0, 1.0, 2], [107.0, 13.0, 1.0, 0.0, 2], [367.0, 5.0, 111.0, 1.0, 2], [478.0, 3.0, 111.0, 2.0, 485], [101.0, 2.0, 51.0, 1.0, 2], [142.0, 1.0, 130.0, 1.0, 2], [35.0, 0.0, 0.0, 1.0, 2], [472.0, 2.0, 414.0, 1.0, 138], [769.0, 6.0, 25.0, 1.0, 2], [310.0, 16.0, 8.0, 1.0, 2], [761.0, 17.0, 56.0, 2.0, 2], [147.0, 6.0, 15.0, 1.0, 2], [791.0, 5.0, 268.0, 2.0, 2], [258.0, 1.0, 246.0, 1.0, 2], [895.0, 17.0, 15.0, 2.0, 2], [349.0, 55.0, 1.0, 0.0, 2], [555.0, 2.0, 1.0, 2.0, 2], [86.0, 11.0, 6.0, 0.0, 2], [191.0, 1.0, 181.0, 1.0, 2], [611.0, 9.0, 23.0, 2.0, 2], [8.0, 0.0, 0.0, 0.0, 2], [238.0, 2.0, 202.0, 1.0, 95], [347.0, 2.0, 2.0, 1.0, 2], [75.0, 2.0, 9.0, 1.0, 2], [68.0, 4.0, 5.0, 1.0, 2], [919.0, 10.0, 151.0, 1.0, 2], [234.0, 2.0, 65.0, 1.0, 2], [737.0, 2.0, 381.0, 1.0, 2], [599.0, 4.0, 155.0, 1.0, 2], [634.0, 7.0, 35.0, 1.0, 2], [247.0, 13.0, 36.0, 1.0, 2], [50.0, 1.0, 39.0, 0.0, 2], [91.0, 0.0, 0.0, 0.0, 2], [37.0, 0.0, 0.0, 0.0, 87], [305.0, 1.0, 290.0, 1.0, 115], [573.0, 15.0, 82.0, 1.0, 2], [331.0, 0.0, 0.0, 0.0, 2], [1035.0, 99.0, 30.0, 0.0, 124], [210.0, 22.0, 11.0, 1.0, 2], [278.0, 25.0, 30.0, 0.0, 2], [89.0, 5.0, 24.0, 0.0, 2], [84.0, 4.0, 42.0, 1.0, 2], [68.0, 10.0, 9.0, 0.0, 125], [1132.0, 115.0, 48.0, 1.0, 123], [157.0, 12.0, 13.0, 0.0, 2], [417.0, 23.0, 34.0, 0.0, 2], [564.0, 40.0, 36.0, 0.0, 2], [62.0, 4.0, 14.0, 0.0, 2], [67.0, 4.0, 14.0, 0.0, 2], [617.0, 22.0, 40.0, 0.0, 2], [151.0, 12.0, 20.0, 0.0, 2], [535.0, 48.0, 40.0, 1.0, 137], [1702.0, 28.0, 601.0, 2.0, 2], [481.0, 21.0, 43.0, 1.0, 2], [180.0, 19.0, 14.0, 0.0, 2], [506.0, 49.0, 24.0, 0.0, 98], [214.0, 19.0, 42.0, 0.0, 2], [762.0, 45.0, 47.0, 0.0, 2], [115.0, 6.0, 19.0, 1.0, 2], [92.0, 11.0, 8.0, 2.0, 2], [838.0, 4.0, 59.0, 1.0, 2], [177.0, 8.0, 24.0, 0.0, 2], [1567.0, 73.0, 33.0, 1.0, 124], [762.0, 25.0, 52.0, 0.0, 2], [504.0, 25.0, 48.0, 0.0, 2], [92.0, 1.0, 15.0, 0.0, 2], [71.0, 0.0, 0.0, 1.0, 2], [137.0, 0.0, 0.0, 1.0, 2], [82.0, 2.0, 4.0, 1.0, 2], [101.0, 0.0, 0.0, 0.0, 2], [133.0, 1.0, 1.0, 0.0, 2], [17.0, 0.0, 0.0, 0.0, 2], [35.0, 1.0, 6.0, 0.0, 2], [509.0, 21.0, 43.0, 1.0, 2], [58.0, 6.0, 12.0, 0.0, 2], [172.0, 17.0, 15.0, 0.0, 128], [2102.0, 98.0, 35.0, 1.0, 2], [62.0, 3.0, 22.0, 1.0, 2], [51.0, 2.0, 25.0, 2.0, 2], [143.0, 10.0, 14.0, 0.0, 2], [329.0, 13.0, 35.0, 0.0, 108], [464.0, 1.0, 450.0, 0.0, 2], [190.0, 5.0, 28.0, 0.0, 199], [333.0, 24.0, 16.0, 0.0, 2], [579.0, 17.0, 41.0, 1.0, 161], [440.0, 14.0, 40.0, 0.0, 187], [685.0, 60.0, 64.0, 0.0, 2], [20.0, 3.0, 4.0, 0.0, 2], [1022.0, 110.0, 18.0, 1.0, 92], [1151.0, 68.0, 61.0, 1.0, 2], [474.0, 41.0, 37.0, 0.0, 2], [962.0, 18.0, 33.0, 1.0, 2], [375.0, 44.0, 36.0, 0.0, 2], [10.0, 1.0, 4.0, 0.0, 2], [169.0, 14.0, 15.0, 0.0, 90], [387.0, 38.0, 30.0, 0.0, 2], [194.0, 4.0, 14.0, 0.0, 241], [177.0, 15.0, 25.0, 2.0, 175], [53.0, 4.0, 5.0, 0.0, 2], [55.0, 2.0, 29.0, 0.0, 110], [23.0, 0.0, 0.0, 0.0, 91], [66.0, 0.0, 0.0, 1.0, 2], [79.0, 1.0, 38.0, 1.0, 2], [178.0, 5.0, 38.0, 1.0, 2], [106.0, 2.0, 65.0, 1.0, 2], [166.0, 2.0, 80.0, 1.0, 2], [60.0, 0.0, 0.0, 1.0, 2], [25.0, 0.0, 0.0, 0.0, 2], [61.0, 1.0, 16.0, 0.0, 2], [8.0, 0.0, 0.0, 0.0, 2], [46.0, 1.0, 21.0, 0.0, 94], [59.0, 0.0, 0.0, 0.0, 2], [22.0, 0.0, 0.0, 0.0, 2], [40.0, 3.0, 12.0, 0.0, 2], [35.0, 1.0, 9.0, 0.0, 2], [167.0, 11.0, 68.0, 1.0, 2], [125.0, 4.0, 14.0, 0.0, 2]]\n"
     ]
    }
   ],
   "source": [
    "f = open(\"../scripts/pythonparse/bad_lint.out\")\n",
    "i = 0\n",
    "j = 0\n",
    "for line in f:\n",
    "    #print line\n",
    "#    print line.strip().isdigit()\n",
    "    #print i\n",
    "    X1[i].append(int(line))\n",
    "    i += 1\n",
    "    if i >= len(X1):\n",
    "        break\n",
    "f.close()\n",
    "print X1\n",
    "X1 = numpy.array(X1)"
   ]
  },
  {
   "cell_type": "code",
   "execution_count": 5,
   "metadata": {
    "collapsed": false
   },
   "outputs": [
    {
     "name": "stdout",
     "output_type": "stream",
     "text": [
      "[[24.0, 1.0, 16.0, 0.0], [200.0, 3.0, 45.0, 1.0], [73.0, 2.0, 45.0, 1.0], [27.0, 1.0, 18.0, 0.0], [35.0, 2.0, 10.0, 1.0], [636.0, 1.0, 5.0, 0.0], [30.0, 0.0, 0.0, 0.0], [40.0, 0.0, 0.0, 0.0], [21.0, 0.0, 0.0, 0.0], [49.0, 0.0, 0.0, 0.0], [45.0, 0.0, 0.0, 0.0], [21.0, 0.0, 0.0, 0.0], [42.0, 0.0, 0.0, 0.0], [47.0, 0.0, 0.0, 0.0], [34.0, 0.0, 0.0, 0.0], [42.0, 0.0, 0.0, 0.0], [43.0, 0.0, 0.0, 0.0], [29.0, 0.0, 0.0, 0.0], [32.0, 0.0, 0.0, 0.0], [49.0, 0.0, 0.0, 0.0], [47.0, 0.0, 0.0, 0.0], [46.0, 0.0, 0.0, 0.0], [563.0, 0.0, 0.0, 0.0], [37.0, 0.0, 0.0, 0.0], [70.0, 0.0, 0.0, 0.0], [38.0, 0.0, 0.0, 0.0], [39.0, 0.0, 0.0, 0.0], [39.0, 0.0, 0.0, 0.0], [21.0, 0.0, 0.0, 0.0], [39.0, 0.0, 0.0, 0.0], [21.0, 0.0, 0.0, 0.0], [28.0, 0.0, 0.0, 0.0], [29.0, 0.0, 0.0, 0.0], [42.0, 0.0, 0.0, 0.0], [32.0, 0.0, 0.0, 0.0], [21.0, 0.0, 0.0, 0.0], [30.0, 0.0, 0.0, 0.0], [47.0, 0.0, 0.0, 0.0], [21.0, 0.0, 0.0, 0.0], [26.0, 0.0, 0.0, 0.0], [33.0, 0.0, 0.0, 0.0], [29.0, 0.0, 0.0, 0.0], [43.0, 0.0, 0.0, 0.0], [21.0, 0.0, 0.0, 0.0], [40.0, 0.0, 0.0, 0.0], [27.0, 0.0, 0.0, 0.0], [32.0, 0.0, 0.0, 0.0], [25.0, 0.0, 0.0, 0.0], [21.0, 0.0, 0.0, 0.0], [35.0, 0.0, 0.0, 0.0], [33.0, 0.0, 0.0, 0.0], [21.0, 0.0, 0.0, 0.0], [42.0, 0.0, 0.0, 0.0], [45.0, 0.0, 0.0, 0.0], [21.0, 0.0, 0.0, 0.0], [30.0, 0.0, 0.0, 0.0], [21.0, 0.0, 0.0, 0.0], [38.0, 0.0, 0.0, 0.0], [21.0, 0.0, 0.0, 0.0], [21.0, 0.0, 0.0, 0.0], [26.0, 0.0, 0.0, 0.0], [21.0, 0.0, 0.0, 0.0], [33.0, 0.0, 0.0, 0.0], [21.0, 0.0, 0.0, 0.0], [21.0, 0.0, 0.0, 0.0], [26.0, 0.0, 0.0, 0.0], [52.0, 0.0, 0.0, 0.0], [31.0, 0.0, 0.0, 0.0], [21.0, 0.0, 0.0, 0.0], [40.0, 0.0, 0.0, 0.0], [21.0, 0.0, 0.0, 0.0], [21.0, 0.0, 0.0, 0.0], [21.0, 0.0, 0.0, 0.0], [21.0, 0.0, 0.0, 0.0], [35.0, 0.0, 0.0, 0.0], [39.0, 0.0, 0.0, 0.0], [21.0, 0.0, 0.0, 0.0], [62.0, 2.0, 43.0, 0.0], [9.0, 2.0, 1.0, 0.0], [20.0, 0.0, 0.0, 0.0], [181.0, 10.0, 61.0, 1.0], [516.0, 8.0, 276.0, 3.0], [289.0, 17.0, 155.0, 0.0], [309.0, 14.0, 90.0, 1.0], [65.0, 3.0, 16.0, 1.0], [597.0, 8.0, 99.0, 2.0], [296.0, 4.0, 150.0, 2.0], [17.0, 2.0, 6.0, 0.0], [54.0, 9.0, 1.0, 0.0], [2.0, 0.0, 0.0, 0.0], [32.0, 2.0, 22.0, 2.0], [371.0, 29.0, 68.0, 1.0], [390.0, 3.0, 17.0, 3.0], [1231.0, 1.0, 1212.0, 5.0], [61.0, 1.0, 60.0, 2.0], [236.0, 3.0, 139.0, 1.0], [364.0, 1.0, 354.0, 3.0], [316.0, 1.0, 298.0, 2.0], [72.0, 1.0, 63.0, 0.0], [189.0, 3.0, 9.0, 1.0], [15.0, 0.0, 0.0, 0.0], [330.0, 5.0, 72.0, 2.0], [132.0, 1.0, 128.0, 0.0], [832.0, 16.0, 42.0, 2.0], [203.0, 3.0, 67.0, 1.0], [54.0, 1.0, 25.0, 0.0], [6.0, 0.0, 0.0, 0.0], [21.0, 1.0, 20.0, 0.0], [318.0, 9.0, 8.0, 3.0], [72.0, 1.0, 40.0, 0.0], [1106.0, 23.0, 32.0, 1.0], [21.0, 0.0, 0.0, 0.0], [270.0, 20.0, 1.0, 0.0], [219.0, 11.0, 24.0, 0.0], [1676.0, 16.0, 120.0, 2.0], [119.0, 1.0, 108.0, 1.0], [147.0, 8.0, 11.0, 1.0], [1619.0, 8.0, 44.0, 1.0], [2353.0, 34.0, 43.0, 2.0], [283.0, 4.0, 19.0, 1.0], [464.0, 6.0, 5.0, 0.0], [1097.0, 7.0, 366.0, 1.0], [23.0, 1.0, 14.0, 0.0], [149.0, 10.0, 13.0, 2.0], [37.0, 0.0, 0.0, 0.0], [148.0, 4.0, 99.0, 1.0], [6.0, 0.0, 0.0, 0.0], [211.0, 4.0, 10.0, 1.0], [2110.0, 7.0, 1881.0, 2.0], [1269.0, 6.0, 17.0, 2.0], [193.0, 4.0, 11.0, 1.0], [1716.0, 10.0, 1281.0, 3.0], [203.0, 4.0, 23.0, 1.0], [839.0, 3.0, 19.0, 3.0], [284.0, 9.0, 64.0, 1.0], [604.0, 38.0, 4.0, 1.0], [37.0, 1.0, 32.0, 0.0], [55.0, 3.0, 12.0, 0.0], [362.0, 1.0, 350.0, 1.0], [290.0, 1.0, 278.0, 1.0], [12.0, 1.0, 6.0, 0.0], [56.0, 5.0, 1.0, 0.0], [121.0, 1.0, 110.0, 0.0], [563.0, 8.0, 36.0, 2.0], [544.0, 1.0, 11.0, 2.0], [22.0, 2.0, 10.0, 0.0], [3.0, 0.0, 0.0, 0.0], [224.0, 10.0, 43.0, 0.0], [71.0, 1.0, 63.0, 0.0], [111.0, 1.0, 102.0, 0.0]]\n"
     ]
    }
   ],
   "source": [
    "X2 = []\n",
    "f = open(\"../scripts/pythonparse/good.out\")\n",
    "j = 0\n",
    "i = 0\n",
    "X2.append([])\n",
    "for line in f:\n",
    "    #print line\n",
    "    params = 0\n",
    "    if line.strip().isdigit() and (j % 6) == 0:\n",
    "        num1 = int(line)\n",
    "        X2[i].append(float(line))\n",
    "    if line.strip().isdigit() and (j % 6) == 2:\n",
    "        X2[i].append(float(line))\n",
    "    if line.strip().isdigit() and (j % 6) == 3:\n",
    "        num1 = int(line)\n",
    "        X2[i].append(float(line))\n",
    "    if line.strip().isdigit() and (j % 6) == 4:\n",
    "        X2[i].append(float(line))\n",
    "        i += 1\n",
    "        X2.append([])\n",
    "    j += 1\n",
    "    if (j > 900):\n",
    "        break\n",
    "X2.pop(i)\n",
    "print X2"
   ]
  },
  {
   "cell_type": "code",
   "execution_count": 6,
   "metadata": {
    "collapsed": false
   },
   "outputs": [
    {
     "name": "stdout",
     "output_type": "stream",
     "text": [
      "[[24.0, 1.0, 16.0, 0.0, 101], [200.0, 3.0, 45.0, 1.0, 141], [73.0, 2.0, 45.0, 1.0, 112], [27.0, 1.0, 18.0, 0.0, 101], [35.0, 2.0, 10.0, 1.0, 2], [636.0, 1.0, 5.0, 0.0, 96], [30.0, 0.0, 0.0, 0.0, 87], [40.0, 0.0, 0.0, 0.0, 70], [21.0, 0.0, 0.0, 0.0, 87], [49.0, 0.0, 0.0, 0.0, 70], [45.0, 0.0, 0.0, 0.0, 87], [21.0, 0.0, 0.0, 0.0, 70], [42.0, 0.0, 0.0, 0.0, 87], [47.0, 0.0, 0.0, 0.0, 70], [34.0, 0.0, 0.0, 0.0, 91], [42.0, 0.0, 0.0, 0.0, 70], [43.0, 0.0, 0.0, 0.0, 87], [29.0, 0.0, 0.0, 0.0, 70], [32.0, 0.0, 0.0, 0.0, 87], [49.0, 0.0, 0.0, 0.0, 70], [47.0, 0.0, 0.0, 0.0, 87], [46.0, 0.0, 0.0, 0.0, 70], [563.0, 0.0, 0.0, 0.0, 90], [37.0, 0.0, 0.0, 0.0, 83], [70.0, 0.0, 0.0, 0.0, 87], [38.0, 0.0, 0.0, 0.0, 70], [39.0, 0.0, 0.0, 0.0, 87], [39.0, 0.0, 0.0, 0.0, 83], [21.0, 0.0, 0.0, 0.0, 87], [39.0, 0.0, 0.0, 0.0, 70], [21.0, 0.0, 0.0, 0.0, 92], [28.0, 0.0, 0.0, 0.0, 70], [29.0, 0.0, 0.0, 0.0, 87], [42.0, 0.0, 0.0, 0.0, 70], [32.0, 0.0, 0.0, 0.0, 87], [21.0, 0.0, 0.0, 0.0, 70], [30.0, 0.0, 0.0, 0.0, 90], [47.0, 0.0, 0.0, 0.0, 70], [21.0, 0.0, 0.0, 0.0, 135], [26.0, 0.0, 0.0, 0.0, 91], [33.0, 0.0, 0.0, 0.0, 70], [29.0, 0.0, 0.0, 0.0, 95], [43.0, 0.0, 0.0, 0.0, 70], [21.0, 0.0, 0.0, 0.0, 87], [40.0, 0.0, 0.0, 0.0, 70], [27.0, 0.0, 0.0, 0.0, 87], [32.0, 0.0, 0.0, 0.0, 83], [25.0, 0.0, 0.0, 0.0, 87], [21.0, 0.0, 0.0, 0.0, 70], [35.0, 0.0, 0.0, 0.0, 93], [33.0, 0.0, 0.0, 0.0, 70], [21.0, 0.0, 0.0, 0.0, 87], [42.0, 0.0, 0.0, 0.0, 70], [45.0, 0.0, 0.0, 0.0, 87], [21.0, 0.0, 0.0, 0.0, 70], [30.0, 0.0, 0.0, 0.0, 87], [21.0, 0.0, 0.0, 0.0, 70], [38.0, 0.0, 0.0, 0.0, 90], [21.0, 0.0, 0.0, 0.0, 70], [21.0, 0.0, 0.0, 0.0, 100], [26.0, 0.0, 0.0, 0.0, 83], [21.0, 0.0, 0.0, 0.0, 87], [33.0, 0.0, 0.0, 0.0, 70], [21.0, 0.0, 0.0, 0.0, 87], [21.0, 0.0, 0.0, 0.0, 70], [26.0, 0.0, 0.0, 0.0, 87], [52.0, 0.0, 0.0, 0.0, 83], [31.0, 0.0, 0.0, 0.0, 87], [21.0, 0.0, 0.0, 0.0, 70], [40.0, 0.0, 0.0, 0.0, 87], [21.0, 0.0, 0.0, 0.0, 70], [21.0, 0.0, 0.0, 0.0, 87], [21.0, 0.0, 0.0, 0.0, 83], [21.0, 0.0, 0.0, 0.0, 87], [35.0, 0.0, 0.0, 0.0, 70], [39.0, 0.0, 0.0, 0.0, 87], [21.0, 0.0, 0.0, 0.0, 70], [62.0, 2.0, 43.0, 0.0, 87], [9.0, 2.0, 1.0, 0.0, 70], [20.0, 0.0, 0.0, 0.0, 87], [181.0, 10.0, 61.0, 1.0, 70], [516.0, 8.0, 276.0, 3.0, 87], [289.0, 17.0, 155.0, 0.0, 70], [309.0, 14.0, 90.0, 1.0, 87], [65.0, 3.0, 16.0, 1.0, 83], [597.0, 8.0, 99.0, 2.0, 87], [296.0, 4.0, 150.0, 2.0, 70], [17.0, 2.0, 6.0, 0.0, 87], [54.0, 9.0, 1.0, 0.0, 83], [2.0, 0.0, 0.0, 0.0, 87], [32.0, 2.0, 22.0, 2.0, 70], [371.0, 29.0, 68.0, 1.0, 87], [390.0, 3.0, 17.0, 3.0, 70], [1231.0, 1.0, 1212.0, 5.0, 91], [61.0, 1.0, 60.0, 2.0, 70], [236.0, 3.0, 139.0, 1.0, 90], [364.0, 1.0, 354.0, 3.0, 70], [316.0, 1.0, 298.0, 2.0, 100], [72.0, 1.0, 63.0, 0.0, 83], [189.0, 3.0, 9.0, 1.0, 87], [15.0, 0.0, 0.0, 0.0, 70], [330.0, 5.0, 72.0, 2.0, 90], [132.0, 1.0, 128.0, 0.0, 70], [832.0, 16.0, 42.0, 2.0, 87], [203.0, 3.0, 67.0, 1.0, 70], [54.0, 1.0, 25.0, 0.0, 91], [6.0, 0.0, 0.0, 0.0, 70], [21.0, 1.0, 20.0, 0.0, 90], [318.0, 9.0, 8.0, 3.0, 70], [72.0, 1.0, 40.0, 0.0, 87], [1106.0, 23.0, 32.0, 1.0, 70], [21.0, 0.0, 0.0, 0.0, 70], [270.0, 20.0, 1.0, 0.0, 70], [219.0, 11.0, 24.0, 0.0, 87], [1676.0, 16.0, 120.0, 2.0, 83], [119.0, 1.0, 108.0, 1.0, 87], [147.0, 8.0, 11.0, 1.0, 70], [1619.0, 8.0, 44.0, 1.0, 90], [2353.0, 34.0, 43.0, 2.0, 83], [283.0, 4.0, 19.0, 1.0, 87], [464.0, 6.0, 5.0, 0.0, 70], [1097.0, 7.0, 366.0, 1.0, 91], [23.0, 1.0, 14.0, 0.0, 70], [149.0, 10.0, 13.0, 2.0, 87], [37.0, 0.0, 0.0, 0.0, 70], [148.0, 4.0, 99.0, 1.0, 98], [6.0, 0.0, 0.0, 0.0, 70], [211.0, 4.0, 10.0, 1.0, 90], [2110.0, 7.0, 1881.0, 2.0, 70], [1269.0, 6.0, 17.0, 2.0, 87], [193.0, 4.0, 11.0, 1.0, 70], [1716.0, 10.0, 1281.0, 3.0, 87], [203.0, 4.0, 23.0, 1.0, 70], [839.0, 3.0, 19.0, 3.0, 92], [284.0, 9.0, 64.0, 1.0, 70], [604.0, 38.0, 4.0, 1.0, 90], [37.0, 1.0, 32.0, 0.0, 70], [55.0, 3.0, 12.0, 0.0, 91], [362.0, 1.0, 350.0, 1.0, 70], [290.0, 1.0, 278.0, 1.0, 91], [12.0, 1.0, 6.0, 0.0, 70], [56.0, 5.0, 1.0, 0.0, 87], [121.0, 1.0, 110.0, 0.0, 70], [563.0, 8.0, 36.0, 2.0, 87], [544.0, 1.0, 11.0, 2.0, 83], [22.0, 2.0, 10.0, 0.0, 87], [3.0, 0.0, 0.0, 0.0, 70], [224.0, 10.0, 43.0, 0.0, 107], [71.0, 1.0, 63.0, 0.0, 98], [111.0, 1.0, 102.0, 0.0, 87]]\n"
     ]
    }
   ],
   "source": [
    "f = open(\"../scripts/pythonparse/good_lint.out\")\n",
    "i = 0\n",
    "j = 0\n",
    "for line in f:\n",
    "    #print line\n",
    "#    print line.strip().isdigit()\n",
    "    #print i\n",
    "    X2[i].append(int(line))\n",
    "    i += 1\n",
    "    if i >= len(X2):\n",
    "        break\n",
    "f.close()\n",
    "print X2\n",
    "X2 = numpy.array(X2)"
   ]
  },
  {
   "cell_type": "code",
   "execution_count": 7,
   "metadata": {
    "collapsed": true
   },
   "outputs": [],
   "source": [
    "%matplotlib inline\n",
    "import matplotlib.pyplot as plt"
   ]
  },
  {
   "cell_type": "code",
   "execution_count": 17,
   "metadata": {
    "collapsed": false
   },
   "outputs": [
    {
     "name": "stdout",
     "output_type": "stream",
     "text": [
      "[  5.00000000e+01   1.00000000e+00   4.00000000e+01   3.20000000e+01\n",
      "   1.60000000e+01   6.30000000e+01   1.80000000e+01   1.00000000e+00\n",
      "   6.40000000e+01   4.00000000e+00   4.20000000e+01   8.30000000e+01\n",
      "   2.90000000e+01   1.70000000e+01   3.70000000e+01   3.29000000e+02\n",
      "   5.71000000e+02   9.80000000e+01   1.07000000e+02   3.67000000e+02\n",
      "   4.78000000e+02   1.01000000e+02   1.42000000e+02   3.50000000e+01\n",
      "   4.72000000e+02   7.69000000e+02   3.10000000e+02   7.61000000e+02\n",
      "   1.47000000e+02   7.91000000e+02   2.58000000e+02   8.95000000e+02\n",
      "   3.49000000e+02   5.55000000e+02   8.60000000e+01   1.91000000e+02\n",
      "   6.11000000e+02   8.00000000e+00   2.38000000e+02   3.47000000e+02\n",
      "   7.50000000e+01   6.80000000e+01   9.19000000e+02   2.34000000e+02\n",
      "   7.37000000e+02   5.99000000e+02   6.34000000e+02   2.47000000e+02\n",
      "   5.00000000e+01   9.10000000e+01   3.70000000e+01   3.05000000e+02\n",
      "   5.73000000e+02   3.31000000e+02   1.03500000e+03   2.10000000e+02\n",
      "   2.78000000e+02   8.90000000e+01   8.40000000e+01   6.80000000e+01\n",
      "   1.13200000e+03   1.57000000e+02   4.17000000e+02   5.64000000e+02\n",
      "   6.20000000e+01   6.70000000e+01   6.17000000e+02   1.51000000e+02\n",
      "   5.35000000e+02   1.70200000e+03   4.81000000e+02   1.80000000e+02\n",
      "   5.06000000e+02   2.14000000e+02   7.62000000e+02   1.15000000e+02\n",
      "   9.20000000e+01   8.38000000e+02   1.77000000e+02   1.56700000e+03\n",
      "   7.62000000e+02   5.04000000e+02   9.20000000e+01   7.10000000e+01\n",
      "   1.37000000e+02   8.20000000e+01   1.01000000e+02   1.33000000e+02\n",
      "   1.70000000e+01   3.50000000e+01   5.09000000e+02   5.80000000e+01\n",
      "   1.72000000e+02   2.10200000e+03   6.20000000e+01   5.10000000e+01\n",
      "   1.43000000e+02   3.29000000e+02   4.64000000e+02   1.90000000e+02\n",
      "   3.33000000e+02   5.79000000e+02   4.40000000e+02   6.85000000e+02\n",
      "   2.00000000e+01   1.02200000e+03   1.15100000e+03   4.74000000e+02\n",
      "   9.62000000e+02   3.75000000e+02   1.00000000e+01   1.69000000e+02\n",
      "   3.87000000e+02   1.94000000e+02   1.77000000e+02   5.30000000e+01\n",
      "   5.50000000e+01   2.30000000e+01   6.60000000e+01   7.90000000e+01\n",
      "   1.78000000e+02   1.06000000e+02   1.66000000e+02   6.00000000e+01\n",
      "   2.50000000e+01   6.10000000e+01   8.00000000e+00   4.60000000e+01\n",
      "   5.90000000e+01   2.20000000e+01   4.00000000e+01   3.50000000e+01\n",
      "   1.67000000e+02   1.25000000e+02]\n",
      "[   1.    0.    1.    1.    1.    0.    0.    0.    2.    0.    2.    1.\n",
      "    3.    0.    1.    3.    9.    6.   13.    5.    3.    2.    1.    0.\n",
      "    2.    6.   16.   17.    6.    5.    1.   17.   55.    2.   11.    1.\n",
      "    9.    0.    2.    2.    2.    4.   10.    2.    2.    4.    7.   13.\n",
      "    1.    0.    0.    1.   15.    0.   99.   22.   25.    5.    4.   10.\n",
      "  115.   12.   23.   40.    4.    4.   22.   12.   48.   28.   21.   19.\n",
      "   49.   19.   45.    6.   11.    4.    8.   73.   25.   25.    1.    0.\n",
      "    0.    2.    0.    1.    0.    1.   21.    6.   17.   98.    3.    2.\n",
      "   10.   13.    1.    5.   24.   17.   14.   60.    3.  110.   68.   41.\n",
      "   18.   44.    1.   14.   38.    4.   15.    4.    2.    0.    0.    1.\n",
      "    5.    2.    2.    0.    0.    1.    0.    1.    0.    0.    3.    1.\n",
      "   11.    4.]\n",
      "[  2.40000000e+01   2.00000000e+02   7.30000000e+01   2.70000000e+01\n",
      "   3.50000000e+01   6.36000000e+02   3.00000000e+01   4.00000000e+01\n",
      "   2.10000000e+01   4.90000000e+01   4.50000000e+01   2.10000000e+01\n",
      "   4.20000000e+01   4.70000000e+01   3.40000000e+01   4.20000000e+01\n",
      "   4.30000000e+01   2.90000000e+01   3.20000000e+01   4.90000000e+01\n",
      "   4.70000000e+01   4.60000000e+01   5.63000000e+02   3.70000000e+01\n",
      "   7.00000000e+01   3.80000000e+01   3.90000000e+01   3.90000000e+01\n",
      "   2.10000000e+01   3.90000000e+01   2.10000000e+01   2.80000000e+01\n",
      "   2.90000000e+01   4.20000000e+01   3.20000000e+01   2.10000000e+01\n",
      "   3.00000000e+01   4.70000000e+01   2.10000000e+01   2.60000000e+01\n",
      "   3.30000000e+01   2.90000000e+01   4.30000000e+01   2.10000000e+01\n",
      "   4.00000000e+01   2.70000000e+01   3.20000000e+01   2.50000000e+01\n",
      "   2.10000000e+01   3.50000000e+01   3.30000000e+01   2.10000000e+01\n",
      "   4.20000000e+01   4.50000000e+01   2.10000000e+01   3.00000000e+01\n",
      "   2.10000000e+01   3.80000000e+01   2.10000000e+01   2.10000000e+01\n",
      "   2.60000000e+01   2.10000000e+01   3.30000000e+01   2.10000000e+01\n",
      "   2.10000000e+01   2.60000000e+01   5.20000000e+01   3.10000000e+01\n",
      "   2.10000000e+01   4.00000000e+01   2.10000000e+01   2.10000000e+01\n",
      "   2.10000000e+01   2.10000000e+01   3.50000000e+01   3.90000000e+01\n",
      "   2.10000000e+01   6.20000000e+01   9.00000000e+00   2.00000000e+01\n",
      "   1.81000000e+02   5.16000000e+02   2.89000000e+02   3.09000000e+02\n",
      "   6.50000000e+01   5.97000000e+02   2.96000000e+02   1.70000000e+01\n",
      "   5.40000000e+01   2.00000000e+00   3.20000000e+01   3.71000000e+02\n",
      "   3.90000000e+02   1.23100000e+03   6.10000000e+01   2.36000000e+02\n",
      "   3.64000000e+02   3.16000000e+02   7.20000000e+01   1.89000000e+02\n",
      "   1.50000000e+01   3.30000000e+02   1.32000000e+02   8.32000000e+02\n",
      "   2.03000000e+02   5.40000000e+01   6.00000000e+00   2.10000000e+01\n",
      "   3.18000000e+02   7.20000000e+01   1.10600000e+03   2.10000000e+01\n",
      "   2.70000000e+02   2.19000000e+02   1.67600000e+03   1.19000000e+02\n",
      "   1.47000000e+02   1.61900000e+03   2.35300000e+03   2.83000000e+02\n",
      "   4.64000000e+02   1.09700000e+03   2.30000000e+01   1.49000000e+02\n",
      "   3.70000000e+01   1.48000000e+02   6.00000000e+00   2.11000000e+02\n",
      "   2.11000000e+03   1.26900000e+03   1.93000000e+02   1.71600000e+03\n",
      "   2.03000000e+02   8.39000000e+02   2.84000000e+02   6.04000000e+02\n",
      "   3.70000000e+01   5.50000000e+01   3.62000000e+02   2.90000000e+02\n",
      "   1.20000000e+01   5.60000000e+01   1.21000000e+02   5.63000000e+02\n",
      "   5.44000000e+02   2.20000000e+01   3.00000000e+00   2.24000000e+02\n",
      "   7.10000000e+01   1.11000000e+02]\n",
      "[  1.   3.   2.   1.   2.   1.   0.   0.   0.   0.   0.   0.   0.   0.   0.\n",
      "   0.   0.   0.   0.   0.   0.   0.   0.   0.   0.   0.   0.   0.   0.   0.\n",
      "   0.   0.   0.   0.   0.   0.   0.   0.   0.   0.   0.   0.   0.   0.   0.\n",
      "   0.   0.   0.   0.   0.   0.   0.   0.   0.   0.   0.   0.   0.   0.   0.\n",
      "   0.   0.   0.   0.   0.   0.   0.   0.   0.   0.   0.   0.   0.   0.   0.\n",
      "   0.   0.   2.   2.   0.  10.   8.  17.  14.   3.   8.   4.   2.   9.   0.\n",
      "   2.  29.   3.   1.   1.   3.   1.   1.   1.   3.   0.   5.   1.  16.   3.\n",
      "   1.   0.   1.   9.   1.  23.   0.  20.  11.  16.   1.   8.   8.  34.   4.\n",
      "   6.   7.   1.  10.   0.   4.   0.   4.   7.   6.   4.  10.   4.   3.   9.\n",
      "  38.   1.   3.   1.   1.   1.   5.   1.   8.   1.   2.   0.  10.   1.   1.]\n"
     ]
    }
   ],
   "source": [
    "print X1[:,0]\n",
    "print X1[:,1]\n",
    "print X2[:,0]\n",
    "print X2[:,1]"
   ]
  },
  {
   "cell_type": "code",
   "execution_count": 8,
   "metadata": {
    "collapsed": false
   },
   "outputs": [
    {
     "data": {
      "text/plain": [
       "<matplotlib.collections.PathCollection at 0x7f57021a4190>"
      ]
     },
     "execution_count": 8,
     "metadata": {},
     "output_type": "execute_result"
    },
    {
     "data": {
      "image/png": "[encoded data removed]",
      "text/plain": [
       "<matplotlib.figure.Figure at 0x7f57044d6490>"
      ]
     },
     "metadata": {},
     "output_type": "display_data"
    }
   ],
   "source": [
    "plt.scatter(X1[:, 0],X1[:, 1], marker=\"o\")\n",
    "plt.scatter(X2[:, 0],X2[:, 1], marker=\"+\", color='green')"
   ]
  },
  {
   "cell_type": "code",
   "execution_count": 8,
   "metadata": {
    "collapsed": false
   },
   "outputs": [
    {
     "name": "stdout",
     "output_type": "stream",
     "text": [
      "134\n",
      "150\n",
      "134\n",
      "150\n"
     ]
    }
   ],
   "source": [
    "y1 = []\n",
    "y2 = []\n",
    "y1 = [[0]]*len(X1)\n",
    "y2 = [[1]]*len(X2)\n",
    "print len(X1)\n",
    "print len(X2)\n",
    "print len(y1)\n",
    "print len(y2)"
   ]
  },
  {
   "cell_type": "code",
   "execution_count": 9,
   "metadata": {
    "collapsed": false
   },
   "outputs": [
    {
     "name": "stdout",
     "output_type": "stream",
     "text": [
      "134\n",
      "150\n",
      "284\n",
      "284\n",
      "[[  5.00000000e+01   1.00000000e+00   1.00000000e+00   1.00000000e+00\n",
      "    2.00000000e+00]\n",
      " [  1.00000000e+00   0.00000000e+00   0.00000000e+00   0.00000000e+00\n",
      "    2.00000000e+00]\n",
      " [  4.00000000e+01   1.00000000e+00   6.00000000e+00   1.00000000e+00\n",
      "    8.70000000e+01]\n",
      " [  3.20000000e+01   1.00000000e+00   1.10000000e+01   1.00000000e+00\n",
      "    2.00000000e+00]\n",
      " [  1.60000000e+01   1.00000000e+00   8.00000000e+00   0.00000000e+00\n",
      "    9.50000000e+01]\n",
      " [  6.30000000e+01   0.00000000e+00   0.00000000e+00   0.00000000e+00\n",
      "    9.20000000e+01]\n",
      " [  1.80000000e+01   0.00000000e+00   0.00000000e+00   0.00000000e+00\n",
      "    2.00000000e+00]\n",
      " [  1.00000000e+00   0.00000000e+00   0.00000000e+00   0.00000000e+00\n",
      "    9.30000000e+01]\n",
      " [  6.40000000e+01   2.00000000e+00   2.90000000e+01   0.00000000e+00\n",
      "    8.70000000e+01]\n",
      " [  4.00000000e+00   0.00000000e+00   0.00000000e+00   0.00000000e+00\n",
      "    1.19000000e+02]\n",
      " [  4.20000000e+01   2.00000000e+00   1.70000000e+01   0.00000000e+00\n",
      "    9.60000000e+01]\n",
      " [  8.30000000e+01   1.00000000e+00   1.00000000e+00   0.00000000e+00\n",
      "    2.00000000e+00]\n",
      " [  2.90000000e+01   3.00000000e+00   5.00000000e+00   0.00000000e+00\n",
      "    2.00000000e+00]\n",
      " [  1.70000000e+01   0.00000000e+00   0.00000000e+00   0.00000000e+00\n",
      "    1.01000000e+02]\n",
      " [  3.70000000e+01   1.00000000e+00   1.10000000e+01   1.00000000e+00\n",
      "    2.00000000e+00]\n",
      " [  3.29000000e+02   3.00000000e+00   1.70000000e+02   0.00000000e+00\n",
      "    9.50000000e+01]\n",
      " [  5.71000000e+02   9.00000000e+00   8.10000000e+01   1.00000000e+00\n",
      "    2.00000000e+00]\n",
      " [  9.80000000e+01   6.00000000e+00   9.00000000e+00   1.00000000e+00\n",
      "    2.00000000e+00]\n",
      " [  1.07000000e+02   1.30000000e+01   1.00000000e+00   0.00000000e+00\n",
      "    2.00000000e+00]\n",
      " [  3.67000000e+02   5.00000000e+00   1.11000000e+02   1.00000000e+00\n",
      "    2.00000000e+00]\n",
      " [  4.78000000e+02   3.00000000e+00   1.11000000e+02   2.00000000e+00\n",
      "    4.85000000e+02]\n",
      " [  1.01000000e+02   2.00000000e+00   5.10000000e+01   1.00000000e+00\n",
      "    2.00000000e+00]\n",
      " [  1.42000000e+02   1.00000000e+00   1.30000000e+02   1.00000000e+00\n",
      "    2.00000000e+00]\n",
      " [  3.50000000e+01   0.00000000e+00   0.00000000e+00   1.00000000e+00\n",
      "    2.00000000e+00]\n",
      " [  4.72000000e+02   2.00000000e+00   4.14000000e+02   1.00000000e+00\n",
      "    1.38000000e+02]\n",
      " [  7.69000000e+02   6.00000000e+00   2.50000000e+01   1.00000000e+00\n",
      "    2.00000000e+00]\n",
      " [  3.10000000e+02   1.60000000e+01   8.00000000e+00   1.00000000e+00\n",
      "    2.00000000e+00]\n",
      " [  7.61000000e+02   1.70000000e+01   5.60000000e+01   2.00000000e+00\n",
      "    2.00000000e+00]\n",
      " [  1.47000000e+02   6.00000000e+00   1.50000000e+01   1.00000000e+00\n",
      "    2.00000000e+00]\n",
      " [  7.91000000e+02   5.00000000e+00   2.68000000e+02   2.00000000e+00\n",
      "    2.00000000e+00]\n",
      " [  2.58000000e+02   1.00000000e+00   2.46000000e+02   1.00000000e+00\n",
      "    2.00000000e+00]\n",
      " [  8.95000000e+02   1.70000000e+01   1.50000000e+01   2.00000000e+00\n",
      "    2.00000000e+00]\n",
      " [  3.49000000e+02   5.50000000e+01   1.00000000e+00   0.00000000e+00\n",
      "    2.00000000e+00]\n",
      " [  5.55000000e+02   2.00000000e+00   1.00000000e+00   2.00000000e+00\n",
      "    2.00000000e+00]\n",
      " [  8.60000000e+01   1.10000000e+01   6.00000000e+00   0.00000000e+00\n",
      "    2.00000000e+00]\n",
      " [  1.91000000e+02   1.00000000e+00   1.81000000e+02   1.00000000e+00\n",
      "    2.00000000e+00]\n",
      " [  6.11000000e+02   9.00000000e+00   2.30000000e+01   2.00000000e+00\n",
      "    2.00000000e+00]\n",
      " [  8.00000000e+00   0.00000000e+00   0.00000000e+00   0.00000000e+00\n",
      "    2.00000000e+00]\n",
      " [  2.38000000e+02   2.00000000e+00   2.02000000e+02   1.00000000e+00\n",
      "    9.50000000e+01]\n",
      " [  3.47000000e+02   2.00000000e+00   2.00000000e+00   1.00000000e+00\n",
      "    2.00000000e+00]\n",
      " [  7.50000000e+01   2.00000000e+00   9.00000000e+00   1.00000000e+00\n",
      "    2.00000000e+00]\n",
      " [  6.80000000e+01   4.00000000e+00   5.00000000e+00   1.00000000e+00\n",
      "    2.00000000e+00]\n",
      " [  9.19000000e+02   1.00000000e+01   1.51000000e+02   1.00000000e+00\n",
      "    2.00000000e+00]\n",
      " [  2.34000000e+02   2.00000000e+00   6.50000000e+01   1.00000000e+00\n",
      "    2.00000000e+00]\n",
      " [  7.37000000e+02   2.00000000e+00   3.81000000e+02   1.00000000e+00\n",
      "    2.00000000e+00]\n",
      " [  5.99000000e+02   4.00000000e+00   1.55000000e+02   1.00000000e+00\n",
      "    2.00000000e+00]\n",
      " [  6.34000000e+02   7.00000000e+00   3.50000000e+01   1.00000000e+00\n",
      "    2.00000000e+00]\n",
      " [  2.47000000e+02   1.30000000e+01   3.60000000e+01   1.00000000e+00\n",
      "    2.00000000e+00]\n",
      " [  5.00000000e+01   1.00000000e+00   3.90000000e+01   0.00000000e+00\n",
      "    2.00000000e+00]\n",
      " [  9.10000000e+01   0.00000000e+00   0.00000000e+00   0.00000000e+00\n",
      "    2.00000000e+00]\n",
      " [  3.70000000e+01   0.00000000e+00   0.00000000e+00   0.00000000e+00\n",
      "    8.70000000e+01]\n",
      " [  3.05000000e+02   1.00000000e+00   2.90000000e+02   1.00000000e+00\n",
      "    1.15000000e+02]\n",
      " [  5.73000000e+02   1.50000000e+01   8.20000000e+01   1.00000000e+00\n",
      "    2.00000000e+00]\n",
      " [  3.31000000e+02   0.00000000e+00   0.00000000e+00   0.00000000e+00\n",
      "    2.00000000e+00]\n",
      " [  1.03500000e+03   9.90000000e+01   3.00000000e+01   0.00000000e+00\n",
      "    1.24000000e+02]\n",
      " [  2.10000000e+02   2.20000000e+01   1.10000000e+01   1.00000000e+00\n",
      "    2.00000000e+00]\n",
      " [  2.78000000e+02   2.50000000e+01   3.00000000e+01   0.00000000e+00\n",
      "    2.00000000e+00]\n",
      " [  8.90000000e+01   5.00000000e+00   2.40000000e+01   0.00000000e+00\n",
      "    2.00000000e+00]\n",
      " [  8.40000000e+01   4.00000000e+00   4.20000000e+01   1.00000000e+00\n",
      "    2.00000000e+00]\n",
      " [  6.80000000e+01   1.00000000e+01   9.00000000e+00   0.00000000e+00\n",
      "    1.25000000e+02]\n",
      " [  1.13200000e+03   1.15000000e+02   4.80000000e+01   1.00000000e+00\n",
      "    1.23000000e+02]\n",
      " [  1.57000000e+02   1.20000000e+01   1.30000000e+01   0.00000000e+00\n",
      "    2.00000000e+00]\n",
      " [  4.17000000e+02   2.30000000e+01   3.40000000e+01   0.00000000e+00\n",
      "    2.00000000e+00]\n",
      " [  5.64000000e+02   4.00000000e+01   3.60000000e+01   0.00000000e+00\n",
      "    2.00000000e+00]\n",
      " [  6.20000000e+01   4.00000000e+00   1.40000000e+01   0.00000000e+00\n",
      "    2.00000000e+00]\n",
      " [  6.70000000e+01   4.00000000e+00   1.40000000e+01   0.00000000e+00\n",
      "    2.00000000e+00]\n",
      " [  6.17000000e+02   2.20000000e+01   4.00000000e+01   0.00000000e+00\n",
      "    2.00000000e+00]\n",
      " [  1.51000000e+02   1.20000000e+01   2.00000000e+01   0.00000000e+00\n",
      "    2.00000000e+00]\n",
      " [  5.35000000e+02   4.80000000e+01   4.00000000e+01   1.00000000e+00\n",
      "    1.37000000e+02]\n",
      " [  1.70200000e+03   2.80000000e+01   6.01000000e+02   2.00000000e+00\n",
      "    2.00000000e+00]\n",
      " [  4.81000000e+02   2.10000000e+01   4.30000000e+01   1.00000000e+00\n",
      "    2.00000000e+00]\n",
      " [  1.80000000e+02   1.90000000e+01   1.40000000e+01   0.00000000e+00\n",
      "    2.00000000e+00]\n",
      " [  5.06000000e+02   4.90000000e+01   2.40000000e+01   0.00000000e+00\n",
      "    9.80000000e+01]\n",
      " [  2.14000000e+02   1.90000000e+01   4.20000000e+01   0.00000000e+00\n",
      "    2.00000000e+00]\n",
      " [  7.62000000e+02   4.50000000e+01   4.70000000e+01   0.00000000e+00\n",
      "    2.00000000e+00]\n",
      " [  1.15000000e+02   6.00000000e+00   1.90000000e+01   1.00000000e+00\n",
      "    2.00000000e+00]\n",
      " [  9.20000000e+01   1.10000000e+01   8.00000000e+00   2.00000000e+00\n",
      "    2.00000000e+00]\n",
      " [  8.38000000e+02   4.00000000e+00   5.90000000e+01   1.00000000e+00\n",
      "    2.00000000e+00]\n",
      " [  1.77000000e+02   8.00000000e+00   2.40000000e+01   0.00000000e+00\n",
      "    2.00000000e+00]\n",
      " [  1.56700000e+03   7.30000000e+01   3.30000000e+01   1.00000000e+00\n",
      "    1.24000000e+02]\n",
      " [  7.62000000e+02   2.50000000e+01   5.20000000e+01   0.00000000e+00\n",
      "    2.00000000e+00]\n",
      " [  5.04000000e+02   2.50000000e+01   4.80000000e+01   0.00000000e+00\n",
      "    2.00000000e+00]\n",
      " [  9.20000000e+01   1.00000000e+00   1.50000000e+01   0.00000000e+00\n",
      "    2.00000000e+00]\n",
      " [  7.10000000e+01   0.00000000e+00   0.00000000e+00   1.00000000e+00\n",
      "    2.00000000e+00]\n",
      " [  1.37000000e+02   0.00000000e+00   0.00000000e+00   1.00000000e+00\n",
      "    2.00000000e+00]\n",
      " [  8.20000000e+01   2.00000000e+00   4.00000000e+00   1.00000000e+00\n",
      "    2.00000000e+00]\n",
      " [  1.01000000e+02   0.00000000e+00   0.00000000e+00   0.00000000e+00\n",
      "    2.00000000e+00]\n",
      " [  1.33000000e+02   1.00000000e+00   1.00000000e+00   0.00000000e+00\n",
      "    2.00000000e+00]\n",
      " [  1.70000000e+01   0.00000000e+00   0.00000000e+00   0.00000000e+00\n",
      "    2.00000000e+00]\n",
      " [  3.50000000e+01   1.00000000e+00   6.00000000e+00   0.00000000e+00\n",
      "    2.00000000e+00]\n",
      " [  5.09000000e+02   2.10000000e+01   4.30000000e+01   1.00000000e+00\n",
      "    2.00000000e+00]\n",
      " [  5.80000000e+01   6.00000000e+00   1.20000000e+01   0.00000000e+00\n",
      "    2.00000000e+00]\n",
      " [  1.72000000e+02   1.70000000e+01   1.50000000e+01   0.00000000e+00\n",
      "    1.28000000e+02]\n",
      " [  2.10200000e+03   9.80000000e+01   3.50000000e+01   1.00000000e+00\n",
      "    2.00000000e+00]\n",
      " [  6.20000000e+01   3.00000000e+00   2.20000000e+01   1.00000000e+00\n",
      "    2.00000000e+00]\n",
      " [  5.10000000e+01   2.00000000e+00   2.50000000e+01   2.00000000e+00\n",
      "    2.00000000e+00]\n",
      " [  1.43000000e+02   1.00000000e+01   1.40000000e+01   0.00000000e+00\n",
      "    2.00000000e+00]\n",
      " [  3.29000000e+02   1.30000000e+01   3.50000000e+01   0.00000000e+00\n",
      "    1.08000000e+02]\n",
      " [  4.64000000e+02   1.00000000e+00   4.50000000e+02   0.00000000e+00\n",
      "    2.00000000e+00]\n",
      " [  1.90000000e+02   5.00000000e+00   2.80000000e+01   0.00000000e+00\n",
      "    1.99000000e+02]\n",
      " [  3.33000000e+02   2.40000000e+01   1.60000000e+01   0.00000000e+00\n",
      "    2.00000000e+00]\n",
      " [  5.79000000e+02   1.70000000e+01   4.10000000e+01   1.00000000e+00\n",
      "    1.61000000e+02]\n",
      " [  4.40000000e+02   1.40000000e+01   4.00000000e+01   0.00000000e+00\n",
      "    1.87000000e+02]\n",
      " [  6.85000000e+02   6.00000000e+01   6.40000000e+01   0.00000000e+00\n",
      "    2.00000000e+00]\n",
      " [  2.00000000e+01   3.00000000e+00   4.00000000e+00   0.00000000e+00\n",
      "    2.00000000e+00]\n",
      " [  1.02200000e+03   1.10000000e+02   1.80000000e+01   1.00000000e+00\n",
      "    9.20000000e+01]\n",
      " [  1.15100000e+03   6.80000000e+01   6.10000000e+01   1.00000000e+00\n",
      "    2.00000000e+00]\n",
      " [  4.74000000e+02   4.10000000e+01   3.70000000e+01   0.00000000e+00\n",
      "    2.00000000e+00]\n",
      " [  9.62000000e+02   1.80000000e+01   3.30000000e+01   1.00000000e+00\n",
      "    2.00000000e+00]\n",
      " [  3.75000000e+02   4.40000000e+01   3.60000000e+01   0.00000000e+00\n",
      "    2.00000000e+00]\n",
      " [  1.00000000e+01   1.00000000e+00   4.00000000e+00   0.00000000e+00\n",
      "    2.00000000e+00]\n",
      " [  1.69000000e+02   1.40000000e+01   1.50000000e+01   0.00000000e+00\n",
      "    9.00000000e+01]\n",
      " [  3.87000000e+02   3.80000000e+01   3.00000000e+01   0.00000000e+00\n",
      "    2.00000000e+00]\n",
      " [  1.94000000e+02   4.00000000e+00   1.40000000e+01   0.00000000e+00\n",
      "    2.41000000e+02]\n",
      " [  1.77000000e+02   1.50000000e+01   2.50000000e+01   2.00000000e+00\n",
      "    1.75000000e+02]\n",
      " [  5.30000000e+01   4.00000000e+00   5.00000000e+00   0.00000000e+00\n",
      "    2.00000000e+00]\n",
      " [  5.50000000e+01   2.00000000e+00   2.90000000e+01   0.00000000e+00\n",
      "    1.10000000e+02]\n",
      " [  2.30000000e+01   0.00000000e+00   0.00000000e+00   0.00000000e+00\n",
      "    9.10000000e+01]\n",
      " [  6.60000000e+01   0.00000000e+00   0.00000000e+00   1.00000000e+00\n",
      "    2.00000000e+00]\n",
      " [  7.90000000e+01   1.00000000e+00   3.80000000e+01   1.00000000e+00\n",
      "    2.00000000e+00]\n",
      " [  1.78000000e+02   5.00000000e+00   3.80000000e+01   1.00000000e+00\n",
      "    2.00000000e+00]\n",
      " [  1.06000000e+02   2.00000000e+00   6.50000000e+01   1.00000000e+00\n",
      "    2.00000000e+00]\n",
      " [  1.66000000e+02   2.00000000e+00   8.00000000e+01   1.00000000e+00\n",
      "    2.00000000e+00]\n",
      " [  6.00000000e+01   0.00000000e+00   0.00000000e+00   1.00000000e+00\n",
      "    2.00000000e+00]\n",
      " [  2.50000000e+01   0.00000000e+00   0.00000000e+00   0.00000000e+00\n",
      "    2.00000000e+00]\n",
      " [  6.10000000e+01   1.00000000e+00   1.60000000e+01   0.00000000e+00\n",
      "    2.00000000e+00]\n",
      " [  8.00000000e+00   0.00000000e+00   0.00000000e+00   0.00000000e+00\n",
      "    2.00000000e+00]\n",
      " [  4.60000000e+01   1.00000000e+00   2.10000000e+01   0.00000000e+00\n",
      "    9.40000000e+01]\n",
      " [  5.90000000e+01   0.00000000e+00   0.00000000e+00   0.00000000e+00\n",
      "    2.00000000e+00]\n",
      " [  2.20000000e+01   0.00000000e+00   0.00000000e+00   0.00000000e+00\n",
      "    2.00000000e+00]\n",
      " [  4.00000000e+01   3.00000000e+00   1.20000000e+01   0.00000000e+00\n",
      "    2.00000000e+00]\n",
      " [  3.50000000e+01   1.00000000e+00   9.00000000e+00   0.00000000e+00\n",
      "    2.00000000e+00]\n",
      " [  1.67000000e+02   1.10000000e+01   6.80000000e+01   1.00000000e+00\n",
      "    2.00000000e+00]\n",
      " [  1.25000000e+02   4.00000000e+00   1.40000000e+01   0.00000000e+00\n",
      "    2.00000000e+00]]\n",
      "[[  2.40000000e+01   1.00000000e+00   1.60000000e+01   0.00000000e+00\n",
      "    1.01000000e+02]\n",
      " [  2.00000000e+02   3.00000000e+00   4.50000000e+01   1.00000000e+00\n",
      "    1.41000000e+02]\n",
      " [  7.30000000e+01   2.00000000e+00   4.50000000e+01   1.00000000e+00\n",
      "    1.12000000e+02]\n",
      " [  2.70000000e+01   1.00000000e+00   1.80000000e+01   0.00000000e+00\n",
      "    1.01000000e+02]\n",
      " [  3.50000000e+01   2.00000000e+00   1.00000000e+01   1.00000000e+00\n",
      "    2.00000000e+00]\n",
      " [  6.36000000e+02   1.00000000e+00   5.00000000e+00   0.00000000e+00\n",
      "    9.60000000e+01]\n",
      " [  3.00000000e+01   0.00000000e+00   0.00000000e+00   0.00000000e+00\n",
      "    8.70000000e+01]\n",
      " [  4.00000000e+01   0.00000000e+00   0.00000000e+00   0.00000000e+00\n",
      "    7.00000000e+01]\n",
      " [  2.10000000e+01   0.00000000e+00   0.00000000e+00   0.00000000e+00\n",
      "    8.70000000e+01]\n",
      " [  4.90000000e+01   0.00000000e+00   0.00000000e+00   0.00000000e+00\n",
      "    7.00000000e+01]\n",
      " [  4.50000000e+01   0.00000000e+00   0.00000000e+00   0.00000000e+00\n",
      "    8.70000000e+01]\n",
      " [  2.10000000e+01   0.00000000e+00   0.00000000e+00   0.00000000e+00\n",
      "    7.00000000e+01]\n",
      " [  4.20000000e+01   0.00000000e+00   0.00000000e+00   0.00000000e+00\n",
      "    8.70000000e+01]\n",
      " [  4.70000000e+01   0.00000000e+00   0.00000000e+00   0.00000000e+00\n",
      "    7.00000000e+01]\n",
      " [  3.40000000e+01   0.00000000e+00   0.00000000e+00   0.00000000e+00\n",
      "    9.10000000e+01]\n",
      " [  4.20000000e+01   0.00000000e+00   0.00000000e+00   0.00000000e+00\n",
      "    7.00000000e+01]\n",
      " [  4.30000000e+01   0.00000000e+00   0.00000000e+00   0.00000000e+00\n",
      "    8.70000000e+01]\n",
      " [  2.90000000e+01   0.00000000e+00   0.00000000e+00   0.00000000e+00\n",
      "    7.00000000e+01]\n",
      " [  3.20000000e+01   0.00000000e+00   0.00000000e+00   0.00000000e+00\n",
      "    8.70000000e+01]\n",
      " [  4.90000000e+01   0.00000000e+00   0.00000000e+00   0.00000000e+00\n",
      "    7.00000000e+01]\n",
      " [  4.70000000e+01   0.00000000e+00   0.00000000e+00   0.00000000e+00\n",
      "    8.70000000e+01]\n",
      " [  4.60000000e+01   0.00000000e+00   0.00000000e+00   0.00000000e+00\n",
      "    7.00000000e+01]\n",
      " [  5.63000000e+02   0.00000000e+00   0.00000000e+00   0.00000000e+00\n",
      "    9.00000000e+01]\n",
      " [  3.70000000e+01   0.00000000e+00   0.00000000e+00   0.00000000e+00\n",
      "    8.30000000e+01]\n",
      " [  7.00000000e+01   0.00000000e+00   0.00000000e+00   0.00000000e+00\n",
      "    8.70000000e+01]\n",
      " [  3.80000000e+01   0.00000000e+00   0.00000000e+00   0.00000000e+00\n",
      "    7.00000000e+01]\n",
      " [  3.90000000e+01   0.00000000e+00   0.00000000e+00   0.00000000e+00\n",
      "    8.70000000e+01]\n",
      " [  3.90000000e+01   0.00000000e+00   0.00000000e+00   0.00000000e+00\n",
      "    8.30000000e+01]\n",
      " [  2.10000000e+01   0.00000000e+00   0.00000000e+00   0.00000000e+00\n",
      "    8.70000000e+01]\n",
      " [  3.90000000e+01   0.00000000e+00   0.00000000e+00   0.00000000e+00\n",
      "    7.00000000e+01]\n",
      " [  2.10000000e+01   0.00000000e+00   0.00000000e+00   0.00000000e+00\n",
      "    9.20000000e+01]\n",
      " [  2.80000000e+01   0.00000000e+00   0.00000000e+00   0.00000000e+00\n",
      "    7.00000000e+01]\n",
      " [  2.90000000e+01   0.00000000e+00   0.00000000e+00   0.00000000e+00\n",
      "    8.70000000e+01]\n",
      " [  4.20000000e+01   0.00000000e+00   0.00000000e+00   0.00000000e+00\n",
      "    7.00000000e+01]\n",
      " [  3.20000000e+01   0.00000000e+00   0.00000000e+00   0.00000000e+00\n",
      "    8.70000000e+01]\n",
      " [  2.10000000e+01   0.00000000e+00   0.00000000e+00   0.00000000e+00\n",
      "    7.00000000e+01]\n",
      " [  3.00000000e+01   0.00000000e+00   0.00000000e+00   0.00000000e+00\n",
      "    9.00000000e+01]\n",
      " [  4.70000000e+01   0.00000000e+00   0.00000000e+00   0.00000000e+00\n",
      "    7.00000000e+01]\n",
      " [  2.10000000e+01   0.00000000e+00   0.00000000e+00   0.00000000e+00\n",
      "    1.35000000e+02]\n",
      " [  2.60000000e+01   0.00000000e+00   0.00000000e+00   0.00000000e+00\n",
      "    9.10000000e+01]\n",
      " [  3.30000000e+01   0.00000000e+00   0.00000000e+00   0.00000000e+00\n",
      "    7.00000000e+01]\n",
      " [  2.90000000e+01   0.00000000e+00   0.00000000e+00   0.00000000e+00\n",
      "    9.50000000e+01]\n",
      " [  4.30000000e+01   0.00000000e+00   0.00000000e+00   0.00000000e+00\n",
      "    7.00000000e+01]\n",
      " [  2.10000000e+01   0.00000000e+00   0.00000000e+00   0.00000000e+00\n",
      "    8.70000000e+01]\n",
      " [  4.00000000e+01   0.00000000e+00   0.00000000e+00   0.00000000e+00\n",
      "    7.00000000e+01]\n",
      " [  2.70000000e+01   0.00000000e+00   0.00000000e+00   0.00000000e+00\n",
      "    8.70000000e+01]\n",
      " [  3.20000000e+01   0.00000000e+00   0.00000000e+00   0.00000000e+00\n",
      "    8.30000000e+01]\n",
      " [  2.50000000e+01   0.00000000e+00   0.00000000e+00   0.00000000e+00\n",
      "    8.70000000e+01]\n",
      " [  2.10000000e+01   0.00000000e+00   0.00000000e+00   0.00000000e+00\n",
      "    7.00000000e+01]\n",
      " [  3.50000000e+01   0.00000000e+00   0.00000000e+00   0.00000000e+00\n",
      "    9.30000000e+01]\n",
      " [  3.30000000e+01   0.00000000e+00   0.00000000e+00   0.00000000e+00\n",
      "    7.00000000e+01]\n",
      " [  2.10000000e+01   0.00000000e+00   0.00000000e+00   0.00000000e+00\n",
      "    8.70000000e+01]\n",
      " [  4.20000000e+01   0.00000000e+00   0.00000000e+00   0.00000000e+00\n",
      "    7.00000000e+01]\n",
      " [  4.50000000e+01   0.00000000e+00   0.00000000e+00   0.00000000e+00\n",
      "    8.70000000e+01]\n",
      " [  2.10000000e+01   0.00000000e+00   0.00000000e+00   0.00000000e+00\n",
      "    7.00000000e+01]\n",
      " [  3.00000000e+01   0.00000000e+00   0.00000000e+00   0.00000000e+00\n",
      "    8.70000000e+01]\n",
      " [  2.10000000e+01   0.00000000e+00   0.00000000e+00   0.00000000e+00\n",
      "    7.00000000e+01]\n",
      " [  3.80000000e+01   0.00000000e+00   0.00000000e+00   0.00000000e+00\n",
      "    9.00000000e+01]\n",
      " [  2.10000000e+01   0.00000000e+00   0.00000000e+00   0.00000000e+00\n",
      "    7.00000000e+01]\n",
      " [  2.10000000e+01   0.00000000e+00   0.00000000e+00   0.00000000e+00\n",
      "    1.00000000e+02]\n",
      " [  2.60000000e+01   0.00000000e+00   0.00000000e+00   0.00000000e+00\n",
      "    8.30000000e+01]\n",
      " [  2.10000000e+01   0.00000000e+00   0.00000000e+00   0.00000000e+00\n",
      "    8.70000000e+01]\n",
      " [  3.30000000e+01   0.00000000e+00   0.00000000e+00   0.00000000e+00\n",
      "    7.00000000e+01]\n",
      " [  2.10000000e+01   0.00000000e+00   0.00000000e+00   0.00000000e+00\n",
      "    8.70000000e+01]\n",
      " [  2.10000000e+01   0.00000000e+00   0.00000000e+00   0.00000000e+00\n",
      "    7.00000000e+01]\n",
      " [  2.60000000e+01   0.00000000e+00   0.00000000e+00   0.00000000e+00\n",
      "    8.70000000e+01]\n",
      " [  5.20000000e+01   0.00000000e+00   0.00000000e+00   0.00000000e+00\n",
      "    8.30000000e+01]\n",
      " [  3.10000000e+01   0.00000000e+00   0.00000000e+00   0.00000000e+00\n",
      "    8.70000000e+01]\n",
      " [  2.10000000e+01   0.00000000e+00   0.00000000e+00   0.00000000e+00\n",
      "    7.00000000e+01]\n",
      " [  4.00000000e+01   0.00000000e+00   0.00000000e+00   0.00000000e+00\n",
      "    8.70000000e+01]\n",
      " [  2.10000000e+01   0.00000000e+00   0.00000000e+00   0.00000000e+00\n",
      "    7.00000000e+01]\n",
      " [  2.10000000e+01   0.00000000e+00   0.00000000e+00   0.00000000e+00\n",
      "    8.70000000e+01]\n",
      " [  2.10000000e+01   0.00000000e+00   0.00000000e+00   0.00000000e+00\n",
      "    8.30000000e+01]\n",
      " [  2.10000000e+01   0.00000000e+00   0.00000000e+00   0.00000000e+00\n",
      "    8.70000000e+01]\n",
      " [  3.50000000e+01   0.00000000e+00   0.00000000e+00   0.00000000e+00\n",
      "    7.00000000e+01]\n",
      " [  3.90000000e+01   0.00000000e+00   0.00000000e+00   0.00000000e+00\n",
      "    8.70000000e+01]\n",
      " [  2.10000000e+01   0.00000000e+00   0.00000000e+00   0.00000000e+00\n",
      "    7.00000000e+01]\n",
      " [  6.20000000e+01   2.00000000e+00   4.30000000e+01   0.00000000e+00\n",
      "    8.70000000e+01]\n",
      " [  9.00000000e+00   2.00000000e+00   1.00000000e+00   0.00000000e+00\n",
      "    7.00000000e+01]\n",
      " [  2.00000000e+01   0.00000000e+00   0.00000000e+00   0.00000000e+00\n",
      "    8.70000000e+01]\n",
      " [  1.81000000e+02   1.00000000e+01   6.10000000e+01   1.00000000e+00\n",
      "    7.00000000e+01]\n",
      " [  5.16000000e+02   8.00000000e+00   2.76000000e+02   3.00000000e+00\n",
      "    8.70000000e+01]\n",
      " [  2.89000000e+02   1.70000000e+01   1.55000000e+02   0.00000000e+00\n",
      "    7.00000000e+01]\n",
      " [  3.09000000e+02   1.40000000e+01   9.00000000e+01   1.00000000e+00\n",
      "    8.70000000e+01]\n",
      " [  6.50000000e+01   3.00000000e+00   1.60000000e+01   1.00000000e+00\n",
      "    8.30000000e+01]\n",
      " [  5.97000000e+02   8.00000000e+00   9.90000000e+01   2.00000000e+00\n",
      "    8.70000000e+01]\n",
      " [  2.96000000e+02   4.00000000e+00   1.50000000e+02   2.00000000e+00\n",
      "    7.00000000e+01]\n",
      " [  1.70000000e+01   2.00000000e+00   6.00000000e+00   0.00000000e+00\n",
      "    8.70000000e+01]\n",
      " [  5.40000000e+01   9.00000000e+00   1.00000000e+00   0.00000000e+00\n",
      "    8.30000000e+01]\n",
      " [  2.00000000e+00   0.00000000e+00   0.00000000e+00   0.00000000e+00\n",
      "    8.70000000e+01]\n",
      " [  3.20000000e+01   2.00000000e+00   2.20000000e+01   2.00000000e+00\n",
      "    7.00000000e+01]\n",
      " [  3.71000000e+02   2.90000000e+01   6.80000000e+01   1.00000000e+00\n",
      "    8.70000000e+01]\n",
      " [  3.90000000e+02   3.00000000e+00   1.70000000e+01   3.00000000e+00\n",
      "    7.00000000e+01]\n",
      " [  1.23100000e+03   1.00000000e+00   1.21200000e+03   5.00000000e+00\n",
      "    9.10000000e+01]\n",
      " [  6.10000000e+01   1.00000000e+00   6.00000000e+01   2.00000000e+00\n",
      "    7.00000000e+01]\n",
      " [  2.36000000e+02   3.00000000e+00   1.39000000e+02   1.00000000e+00\n",
      "    9.00000000e+01]\n",
      " [  3.64000000e+02   1.00000000e+00   3.54000000e+02   3.00000000e+00\n",
      "    7.00000000e+01]\n",
      " [  3.16000000e+02   1.00000000e+00   2.98000000e+02   2.00000000e+00\n",
      "    1.00000000e+02]\n",
      " [  7.20000000e+01   1.00000000e+00   6.30000000e+01   0.00000000e+00\n",
      "    8.30000000e+01]\n",
      " [  1.89000000e+02   3.00000000e+00   9.00000000e+00   1.00000000e+00\n",
      "    8.70000000e+01]\n",
      " [  1.50000000e+01   0.00000000e+00   0.00000000e+00   0.00000000e+00\n",
      "    7.00000000e+01]\n",
      " [  3.30000000e+02   5.00000000e+00   7.20000000e+01   2.00000000e+00\n",
      "    9.00000000e+01]\n",
      " [  1.32000000e+02   1.00000000e+00   1.28000000e+02   0.00000000e+00\n",
      "    7.00000000e+01]\n",
      " [  8.32000000e+02   1.60000000e+01   4.20000000e+01   2.00000000e+00\n",
      "    8.70000000e+01]\n",
      " [  2.03000000e+02   3.00000000e+00   6.70000000e+01   1.00000000e+00\n",
      "    7.00000000e+01]\n",
      " [  5.40000000e+01   1.00000000e+00   2.50000000e+01   0.00000000e+00\n",
      "    9.10000000e+01]\n",
      " [  6.00000000e+00   0.00000000e+00   0.00000000e+00   0.00000000e+00\n",
      "    7.00000000e+01]\n",
      " [  2.10000000e+01   1.00000000e+00   2.00000000e+01   0.00000000e+00\n",
      "    9.00000000e+01]\n",
      " [  3.18000000e+02   9.00000000e+00   8.00000000e+00   3.00000000e+00\n",
      "    7.00000000e+01]\n",
      " [  7.20000000e+01   1.00000000e+00   4.00000000e+01   0.00000000e+00\n",
      "    8.70000000e+01]\n",
      " [  1.10600000e+03   2.30000000e+01   3.20000000e+01   1.00000000e+00\n",
      "    7.00000000e+01]\n",
      " [  2.10000000e+01   0.00000000e+00   0.00000000e+00   0.00000000e+00\n",
      "    7.00000000e+01]\n",
      " [  2.70000000e+02   2.00000000e+01   1.00000000e+00   0.00000000e+00\n",
      "    7.00000000e+01]\n",
      " [  2.19000000e+02   1.10000000e+01   2.40000000e+01   0.00000000e+00\n",
      "    8.70000000e+01]\n",
      " [  1.67600000e+03   1.60000000e+01   1.20000000e+02   2.00000000e+00\n",
      "    8.30000000e+01]\n",
      " [  1.19000000e+02   1.00000000e+00   1.08000000e+02   1.00000000e+00\n",
      "    8.70000000e+01]\n",
      " [  1.47000000e+02   8.00000000e+00   1.10000000e+01   1.00000000e+00\n",
      "    7.00000000e+01]\n",
      " [  1.61900000e+03   8.00000000e+00   4.40000000e+01   1.00000000e+00\n",
      "    9.00000000e+01]\n",
      " [  2.35300000e+03   3.40000000e+01   4.30000000e+01   2.00000000e+00\n",
      "    8.30000000e+01]\n",
      " [  2.83000000e+02   4.00000000e+00   1.90000000e+01   1.00000000e+00\n",
      "    8.70000000e+01]\n",
      " [  4.64000000e+02   6.00000000e+00   5.00000000e+00   0.00000000e+00\n",
      "    7.00000000e+01]\n",
      " [  1.09700000e+03   7.00000000e+00   3.66000000e+02   1.00000000e+00\n",
      "    9.10000000e+01]\n",
      " [  2.30000000e+01   1.00000000e+00   1.40000000e+01   0.00000000e+00\n",
      "    7.00000000e+01]\n",
      " [  1.49000000e+02   1.00000000e+01   1.30000000e+01   2.00000000e+00\n",
      "    8.70000000e+01]\n",
      " [  3.70000000e+01   0.00000000e+00   0.00000000e+00   0.00000000e+00\n",
      "    7.00000000e+01]\n",
      " [  1.48000000e+02   4.00000000e+00   9.90000000e+01   1.00000000e+00\n",
      "    9.80000000e+01]\n",
      " [  6.00000000e+00   0.00000000e+00   0.00000000e+00   0.00000000e+00\n",
      "    7.00000000e+01]\n",
      " [  2.11000000e+02   4.00000000e+00   1.00000000e+01   1.00000000e+00\n",
      "    9.00000000e+01]\n",
      " [  2.11000000e+03   7.00000000e+00   1.88100000e+03   2.00000000e+00\n",
      "    7.00000000e+01]\n",
      " [  1.26900000e+03   6.00000000e+00   1.70000000e+01   2.00000000e+00\n",
      "    8.70000000e+01]\n",
      " [  1.93000000e+02   4.00000000e+00   1.10000000e+01   1.00000000e+00\n",
      "    7.00000000e+01]\n",
      " [  1.71600000e+03   1.00000000e+01   1.28100000e+03   3.00000000e+00\n",
      "    8.70000000e+01]\n",
      " [  2.03000000e+02   4.00000000e+00   2.30000000e+01   1.00000000e+00\n",
      "    7.00000000e+01]\n",
      " [  8.39000000e+02   3.00000000e+00   1.90000000e+01   3.00000000e+00\n",
      "    9.20000000e+01]\n",
      " [  2.84000000e+02   9.00000000e+00   6.40000000e+01   1.00000000e+00\n",
      "    7.00000000e+01]\n",
      " [  6.04000000e+02   3.80000000e+01   4.00000000e+00   1.00000000e+00\n",
      "    9.00000000e+01]\n",
      " [  3.70000000e+01   1.00000000e+00   3.20000000e+01   0.00000000e+00\n",
      "    7.00000000e+01]\n",
      " [  5.50000000e+01   3.00000000e+00   1.20000000e+01   0.00000000e+00\n",
      "    9.10000000e+01]\n",
      " [  3.62000000e+02   1.00000000e+00   3.50000000e+02   1.00000000e+00\n",
      "    7.00000000e+01]\n",
      " [  2.90000000e+02   1.00000000e+00   2.78000000e+02   1.00000000e+00\n",
      "    9.10000000e+01]\n",
      " [  1.20000000e+01   1.00000000e+00   6.00000000e+00   0.00000000e+00\n",
      "    7.00000000e+01]\n",
      " [  5.60000000e+01   5.00000000e+00   1.00000000e+00   0.00000000e+00\n",
      "    8.70000000e+01]\n",
      " [  1.21000000e+02   1.00000000e+00   1.10000000e+02   0.00000000e+00\n",
      "    7.00000000e+01]\n",
      " [  5.63000000e+02   8.00000000e+00   3.60000000e+01   2.00000000e+00\n",
      "    8.70000000e+01]\n",
      " [  5.44000000e+02   1.00000000e+00   1.10000000e+01   2.00000000e+00\n",
      "    8.30000000e+01]\n",
      " [  2.20000000e+01   2.00000000e+00   1.00000000e+01   0.00000000e+00\n",
      "    8.70000000e+01]\n",
      " [  3.00000000e+00   0.00000000e+00   0.00000000e+00   0.00000000e+00\n",
      "    7.00000000e+01]\n",
      " [  2.24000000e+02   1.00000000e+01   4.30000000e+01   0.00000000e+00\n",
      "    1.07000000e+02]\n",
      " [  7.10000000e+01   1.00000000e+00   6.30000000e+01   0.00000000e+00\n",
      "    9.80000000e+01]\n",
      " [  1.11000000e+02   1.00000000e+00   1.02000000e+02   0.00000000e+00\n",
      "    8.70000000e+01]]\n",
      "[[0], [0], [0], [0], [0], [0], [0], [0], [0], [0], [0], [0], [0], [0], [0], [0], [0], [0], [0], [0], [0], [0], [0], [0], [0], [0], [0], [0], [0], [0], [0], [0], [0], [0], [0], [0], [0], [0], [0], [0], [0], [0], [0], [0], [0], [0], [0], [0], [0], [0], [0], [0], [0], [0], [0], [0], [0], [0], [0], [0], [0], [0], [0], [0], [0], [0], [0], [0], [0], [0], [0], [0], [0], [0], [0], [0], [0], [0], [0], [0], [0], [0], [0], [0], [0], [0], [0], [0], [0], [0], [0], [0], [0], [0], [0], [0], [0], [0], [0], [0], [0], [0], [0], [0], [0], [0], [0], [0], [0], [0], [0], [0], [0], [0], [0], [0], [0], [0], [0], [0], [0], [0], [0], [0], [0], [0], [0], [0], [0], [0], [0], [0], [0], [0], [1], [1], [1], [1], [1], [1], [1], [1], [1], [1], [1], [1], [1], [1], [1], [1], [1], [1], [1], [1], [1], [1], [1], [1], [1], [1], [1], [1], [1], [1], [1], [1], [1], [1], [1], [1], [1], [1], [1], [1], [1], [1], [1], [1], [1], [1], [1], [1], [1], [1], [1], [1], [1], [1], [1], [1], [1], [1], [1], [1], [1], [1], [1], [1], [1], [1], [1], [1], [1], [1], [1], [1], [1], [1], [1], [1], [1], [1], [1], [1], [1], [1], [1], [1], [1], [1], [1], [1], [1], [1], [1], [1], [1], [1], [1], [1], [1], [1], [1], [1], [1], [1], [1], [1], [1], [1], [1], [1], [1], [1], [1], [1], [1], [1], [1], [1], [1], [1], [1], [1], [1], [1], [1], [1], [1], [1], [1], [1], [1], [1], [1], [1], [1], [1], [1], [1], [1], [1], [1], [1], [1], [1], [1], [1], [1], [1], [1], [1], [1], [1]]\n"
     ]
    }
   ],
   "source": [
    "Xn = []\n",
    "yn = []\n",
    "numpy.append(X1, X2)\n",
    "yn = y1 + y2\n",
    "print len(X1)\n",
    "print len(X2)\n",
    "Xn = numpy.append(X1, X2, axis = 0)\n",
    "print len(yn)\n",
    "print len(Xn)\n",
    "print X1\n",
    "print X2\n",
    "print yn\n",
    "#print X1\n",
    "#print y1"
   ]
  },
  {
   "cell_type": "code",
   "execution_count": 10,
   "metadata": {
    "collapsed": false
   },
   "outputs": [
    {
     "name": "stderr",
     "output_type": "stream",
     "text": [
      "/usr/local/lib/python2.7/dist-packages/sklearn/utils/validation.py:526: DataConversionWarning: A column-vector y was passed when a 1d array was expected. Please change the shape of y to (n_samples, ), for example using ravel().\n",
      "  y = column_or_1d(y, warn=True)\n"
     ]
    },
    {
     "data": {
      "text/plain": [
       "SVC(C=1.0, cache_size=200, class_weight=None, coef0=0.0,\n",
       "  decision_function_shape=None, degree=3, gamma='auto', kernel='rbf',\n",
       "  max_iter=-1, probability=False, random_state=None, shrinking=True,\n",
       "  tol=0.001, verbose=False)"
      ]
     },
     "execution_count": 10,
     "metadata": {},
     "output_type": "execute_result"
    }
   ],
   "source": [
    "clf = svm.SVC(kernel=\"rbf\")\n",
    "clf.fit(Xn, yn)"
   ]
  },
  {
   "cell_type": "code",
   "execution_count": 1,
   "metadata": {
    "collapsed": false
   },
   "outputs": [
    {
     "ename": "NameError",
     "evalue": "name 'knn' is not defined",
     "output_type": "error",
     "traceback": [
      "\u001b[0;31m---------------------------------------------------------------------------\u001b[0m",
      "\u001b[0;31mNameError\u001b[0m                                 Traceback (most recent call last)",
      "\u001b[0;32m<ipython-input-1-a5e05ceb64d0>\u001b[0m in \u001b[0;36m<module>\u001b[0;34m()\u001b[0m\n\u001b[0;32m----> 1\u001b[0;31m \u001b[0mclf2\u001b[0m \u001b[0;34m=\u001b[0m \u001b[0mknn\u001b[0m\u001b[0;34m(\u001b[0m\u001b[0mn_neighbors\u001b[0m\u001b[0;34m=\u001b[0m\u001b[0;36m3\u001b[0m\u001b[0;34m)\u001b[0m\u001b[0;34m\u001b[0m\u001b[0m\n\u001b[0m\u001b[1;32m      2\u001b[0m \u001b[0mclf2\u001b[0m\u001b[0;34m.\u001b[0m\u001b[0mfit\u001b[0m\u001b[0;34m(\u001b[0m\u001b[0mXn\u001b[0m\u001b[0;34m,\u001b[0m \u001b[0myn\u001b[0m\u001b[0;34m)\u001b[0m\u001b[0;34m\u001b[0m\u001b[0m\n",
      "\u001b[0;31mNameError\u001b[0m: name 'knn' is not defined"
     ]
    }
   ],
   "source": [
    "clf2 = knn(n_neighbors=3)\n",
    "clf2.fit(Xn, yn)"
   ]
  },
  {
   "cell_type": "code",
   "execution_count": null,
   "metadata": {
    "collapsed": true
   },
   "outputs": [],
   "source": []
  },
  {
   "cell_type": "code",
   "execution_count": 12,
   "metadata": {
    "collapsed": false
   },
   "outputs": [
    {
     "name": "stdout",
     "output_type": "stream",
     "text": [
      "[0 0 0 0 0 0 0 0 0 0 0 0 0 0 0 0 0 0 0 0 0 0 0 0 0 0 0 0 0 0 0 0 0 0 0 0 0\n",
      " 0 0 0 0 0 0 0 0 0 0 0 0 0 0 0 0 0 0 0 0 0 0 0 0 0 0 0 0 0 0 0 0 0 0 0 0 0\n",
      " 0 0 0 0 0 0 0 0 0 0 0 0 0 0 0 0 0 0 0 0 0 0 0 0 0 0 0 0 0 0 0 0 0 0 0 0 0\n",
      " 0 0 0 0 0 0 0 0 0 0 0 0 0 0 0 0 0 0 0 0 0 0 0]\n",
      "[1 1 1 1 0 1 1 1 1 1 1 1 1 1 1 1 1 1 1 1 1 1 1 1 1 1 1 1 1 1 1 1 1 1 1 1 1\n",
      " 1 1 1 1 1 1 1 1 1 1 1 1 1 1 1 1 1 1 1 1 1 1 1 1 1 1 1 1 1 1 1 1 1 1 1 1 1\n",
      " 1 1 1 1 1 1 1 1 1 1 1 1 1 1 1 1 1 1 1 1 1 1 1 1 1 1 1 1 1 1 1 1 1 1 1 1 1\n",
      " 1 1 1 1 1 1 1 1 1 1 1 1 1 1 1 1 1 1 1 1 1 1 1 1 1 1 1 1 1 1 1 1 1 1 1 1 1\n",
      " 1 1]\n"
     ]
    }
   ],
   "source": [
    "print clf.predict(X1)\n",
    "print clf.predict(X2)"
   ]
  },
  {
   "cell_type": "code",
   "execution_count": 13,
   "metadata": {
    "collapsed": false
   },
   "outputs": [
    {
     "name": "stdout",
     "output_type": "stream",
     "text": [
      "[0 0 1 0 1 1 0 0 1 0 0 0 0 1 0 1 0 0 0 0 0 0 0 0 0 0 0 0 0 0 0 0 0 0 0 0 0\n",
      " 0 1 0 0 0 0 0 0 0 0 0 0 0 1 1 0 0 0 0 0 0 0 0 0 0 0 0 0 0 0 0 0 1 0 0 0 0\n",
      " 0 0 0 0 0 1 0 0 0 0 0 0 0 0 0 0 0 0 0 1 0 0 0 1 0 0 0 0 0 0 0 0 0 0 0 0 0\n",
      " 1 0 0 0 0 0 1 0 0 0 0 0 0 0 0 0 0 0 0 0 0 0 0]\n",
      "[1 1 1 1 0 1 1 1 1 1 1 1 1 1 1 1 1 1 1 1 1 1 1 1 1 1 1 1 1 1 1 1 1 1 1 1 1\n",
      " 1 0 1 1 1 1 1 1 1 1 1 1 1 1 1 1 1 1 1 1 1 1 1 1 1 1 1 1 1 1 1 1 1 1 1 1 1\n",
      " 1 1 1 1 1 1 1 0 1 1 1 1 1 1 1 1 1 1 1 1 1 1 1 1 1 1 1 1 1 1 1 0 1 1 1 1 0\n",
      " 1 1 1 1 1 1 1 1 1 1 0 1 1 1 1 1 1 1 1 1 1 1 1 1 1 1 1 1 1 1 1 1 1 1 1 1 1\n",
      " 1 1]\n"
     ]
    }
   ],
   "source": [
    "print clf2.predict(X1)\n",
    "print clf2.predict(X2)"
   ]
  },
  {
   "cell_type": "markdown",
   "metadata": {
    "collapsed": false
   },
   "source": [
    "Проверим на нашем коде (0 -- говнокод, 1 -- нет)"
   ]
  },
  {
   "cell_type": "code",
   "execution_count": 14,
   "metadata": {
    "collapsed": false
   },
   "outputs": [
    {
     "name": "stdout",
     "output_type": "stream",
     "text": [
      "[[207.0, 0.0, 59.0, 2.0, 190]]\n"
     ]
    }
   ],
   "source": [
    "file = open(\"../scripts/pythonparse/ours.out\")\n",
    "X_test = []\n",
    "i = 0\n",
    "j = 0\n",
    "X_test.append([])\n",
    "for line in file:\n",
    "    #print line\n",
    "    if line.strip().isdigit() and (j % 6) == 0:\n",
    "        X_test[i].append(float(line))\n",
    "    if line.strip().isdigit() and (j % 6) == 1:\n",
    "        num1 = int(line)\n",
    "        X_test[i].append(float(line))\n",
    "    if line.strip().isdigit() and (j % 6) == 3:\n",
    "        num1 = int(line)\n",
    "        X_test[i].append(float(line))\n",
    "    if line.strip().isdigit() and (j % 6) == 4:\n",
    "        X_test[i].append(float(line))\n",
    "        X_test[i].append(190)\n",
    "        i += 1\n",
    "        X_test.append([])\n",
    "    j += 1\n",
    "X_test.pop()\n",
    "print X_test"
   ]
  },
  {
   "cell_type": "code",
   "execution_count": 15,
   "metadata": {
    "collapsed": false
   },
   "outputs": [
    {
     "data": {
      "text/plain": [
       "array([0])"
      ]
     },
     "execution_count": 15,
     "metadata": {},
     "output_type": "execute_result"
    }
   ],
   "source": [
    "clf.predict(X_test)"
   ]
  },
  {
   "cell_type": "code",
   "execution_count": 16,
   "metadata": {
    "collapsed": false
   },
   "outputs": [
    {
     "data": {
      "text/plain": [
       "array([0])"
      ]
     },
     "execution_count": 16,
     "metadata": {},
     "output_type": "execute_result"
    }
   ],
   "source": [
    "clf2.predict(X_test)"
   ]
  },
  {
   "cell_type": "markdown",
   "metadata": {
    "collapsed": true
   },
   "source": [
    "Проверим на каком-нибудь левом кусочке из гитхаба"
   ]
  },
  {
   "cell_type": "code",
   "execution_count": 17,
   "metadata": {
    "collapsed": false
   },
   "outputs": [
    {
     "name": "stdout",
     "output_type": "stream",
     "text": [
      "Open file.\n",
      "../scripts/pythonparse/example_github.py\n",
      "1241\n",
      "Counting chars in lines\n",
      "Counting methods\n",
      "37\n",
      "Countint methods lengths...\n",
      "110\n",
      "Counting nesting loops if any\n",
      "Nesting loops amount: 4\n",
      "OK\n",
      "\n",
      "No config file found, using default configuration\n"
     ]
    }
   ],
   "source": [
    "!rm test.out\n",
    "!rm test_lint.out\n",
    "!python \"../scripts/pythonparse/parser.py\" \"../scripts/pythonparse/example_github.py\" test.out\n",
    "!pylint \"../scripts/pythonparse/example_github.py\" | wc -l >> test_lint.out"
   ]
  },
  {
   "cell_type": "code",
   "execution_count": 18,
   "metadata": {
    "collapsed": false
   },
   "outputs": [
    {
     "name": "stdout",
     "output_type": "stream",
     "text": [
      "2\n",
      "\n",
      "[[1241.0, 1.0, 110.0, 4.0, 2]]\n"
     ]
    }
   ],
   "source": [
    "file = open(\"test.out\")\n",
    "X_test = []\n",
    "i = 0\n",
    "j = 0\n",
    "X_test.append([])\n",
    "for line in file:\n",
    "    #print line\n",
    "    if line.strip().isdigit() and (j % 6) == 0:\n",
    "        X_test[i].append(float(line))\n",
    "    if line.strip().isdigit() and (j % 6) == 1:\n",
    "        num1 = int(line)\n",
    "        X_test[i].append(float(line))\n",
    "    if line.strip().isdigit() and (j % 6) == 3:\n",
    "        num1 = int(line)\n",
    "        X_test[i].append(float(line))\n",
    "    if line.strip().isdigit() and (j % 6) == 4:\n",
    "        X_test[i].append(float(line))\n",
    "        i += 1\n",
    "        X_test.append([])\n",
    "    j += 1\n",
    "X_test.pop()\n",
    "file.close()\n",
    "file = open(\"test_lint.out\")\n",
    "for line in file:\n",
    "    print line\n",
    "    X_test[i-1].append(int(line))\n",
    "print X_test"
   ]
  },
  {
   "cell_type": "code",
   "execution_count": 19,
   "metadata": {
    "collapsed": false
   },
   "outputs": [
    {
     "data": {
      "text/plain": [
       "array([0])"
      ]
     },
     "execution_count": 19,
     "metadata": {},
     "output_type": "execute_result"
    }
   ],
   "source": [
    "clf.predict(X_test)"
   ]
  },
  {
   "cell_type": "code",
   "execution_count": 20,
   "metadata": {
    "collapsed": false
   },
   "outputs": [
    {
     "data": {
      "text/plain": [
       "array([1])"
      ]
     },
     "execution_count": 20,
     "metadata": {},
     "output_type": "execute_result"
    }
   ],
   "source": [
    "clf2.predict(X_test)"
   ]
  },
  {
   "cell_type": "code",
   "execution_count": null,
   "metadata": {
    "collapsed": true
   },
   "outputs": [],
   "source": []
  }
 ],
 "metadata": {
  "kernelspec": {
   "display_name": "Python 2",
   "language": "python",
   "name": "python2"
  },
  "language_info": {
   "codemirror_mode": {
    "name": "ipython",
    "version": 2
   },
   "file_extension": ".py",
   "mimetype": "text/x-python",
   "name": "python",
   "nbconvert_exporter": "python",
   "pygments_lexer": "ipython2",
   "version": "2.7.12"
  }
 },
 "nbformat": 4,
 "nbformat_minor": 1
}
